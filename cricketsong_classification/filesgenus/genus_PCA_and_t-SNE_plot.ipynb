{
 "cells": [
  {
   "cell_type": "code",
   "execution_count": 3,
   "id": "996cd4be-e4a2-49e3-a957-1fc904306e0e",
   "metadata": {},
   "outputs": [],
   "source": [
    "import torch\n",
    "import numpy as np\n",
    "from sklearn.manifold import TSNE\n",
    "import matplotlib.pyplot as plt\n",
    "import matplotlib.colors as mcolors\n",
    "from sklearn.decomposition import PCA #PCA'd results are pushed into t-SNE algorithm\n"
   ]
  },
  {
   "cell_type": "code",
   "execution_count": 4,
   "id": "7386f3a9-60df-4fc4-a393-2ce2225fd6d0",
   "metadata": {},
   "outputs": [],
   "source": [
    "# 1. Load the data from the .pt file.\n",
    "# Specify the file path to your data file (e.g., \"your_data.pt\")\n",
    "file_path = r\"/gpfs/proj1/choe_lab/tanu/Genus_classification/features_extracted/3_genus/train/cricket_data_feature_extracted.pt\"\n",
    "\n",
    "# Load the data using torch.load() and assign it to a variable\n",
    "data = torch.load(file_path) # Load your data, assuming it contains both spectrograms and labels\n"
   ]
  },
  {
   "cell_type": "code",
   "execution_count": 5,
   "id": "38db841d-f58d-4a80-83f2-143adbf13402",
   "metadata": {},
   "outputs": [
    {
     "name": "stdout",
     "output_type": "stream",
     "text": [
      "<class 'list'>\n",
      "1557\n",
      "{'array': array([[-1.2775939 , -1.2775939 , -1.2775939 , ..., -0.23541215,\n",
      "        -0.30382976, -0.3235951 ],\n",
      "       [-1.2775939 , -1.2775939 , -1.2775939 , ..., -0.23931436,\n",
      "        -0.2634499 , -0.21648456],\n",
      "       [-1.2775939 , -1.2775939 , -1.2775939 , ..., -0.23391277,\n",
      "        -0.33280575, -0.38075528],\n",
      "       ...,\n",
      "       [ 0.46703237,  0.46703237,  0.46703237, ...,  0.46703237,\n",
      "         0.46703237,  0.46703237],\n",
      "       [ 0.46703237,  0.46703237,  0.46703237, ...,  0.46703237,\n",
      "         0.46703237,  0.46703237],\n",
      "       [ 0.46703237,  0.46703237,  0.46703237, ...,  0.46703237,\n",
      "         0.46703237,  0.46703237]], dtype=float32), 'label': 'Cycloptilum albocircum SINA'}\n",
      "(1024, 128)\n"
     ]
    }
   ],
   "source": [
    "print(type(data))\n",
    "print(len(data))\n",
    "print(data[0])\n",
    "print(data[0][\"array\"].shape)"
   ]
  },
  {
   "cell_type": "code",
   "execution_count": 6,
   "id": "6616135c-3c9e-4e5e-a09c-fa25628e53e5",
   "metadata": {},
   "outputs": [
    {
     "name": "stdout",
     "output_type": "stream",
     "text": [
      "Cycloptilum\n"
     ]
    }
   ],
   "source": [
    "spectrograms = np.array([sample['array'].flatten() for sample in data])\n",
    "labels = [sample['label'].split()[0] for sample in data]\n",
    "\n",
    "print(labels[0])"
   ]
  },
  {
   "cell_type": "code",
   "execution_count": 9,
   "id": "5d30571c-badf-4fe8-abf2-4ac3e85c950b",
   "metadata": {},
   "outputs": [
    {
     "name": "stdout",
     "output_type": "stream",
     "text": [
      "3\n",
      "{'Cycloptilum': 211, 'Gryllus': 650, 'Oecanthus': 696}\n"
     ]
    }
   ],
   "source": [
    "# A dictionary to keep the count of each species samples\n",
    "species_sample_count = {}\n",
    "for label in labels:\n",
    "    if label not in species_sample_count:\n",
    "        species_sample_count[label] = 1\n",
    "    else:\n",
    "        species_sample_count[label] += 1\n",
    "\n",
    "species_sample_count = dict(sorted(species_sample_count.items(), key = lambda item: item[1]))\n",
    "print(len(species_sample_count))\n",
    "print(species_sample_count)"
   ]
  },
  {
   "cell_type": "code",
   "execution_count": 17,
   "id": "cad7c4c3-3f3a-40f9-9925-9723418461b1",
   "metadata": {},
   "outputs": [],
   "source": [
    "#Apply PCA"
   ]
  },
  {
   "cell_type": "code",
   "execution_count": 10,
   "id": "f9657e1d-5cc3-460d-9557-b4727e2b6b93",
   "metadata": {},
   "outputs": [
    {
     "name": "stdout",
     "output_type": "stream",
     "text": [
      "TOTAL EXPLAINED VARIANCE WITH 1000 components = 0.9850547965907026\n"
     ]
    }
   ],
   "source": [
    "#3 genus\n",
    "num_components = 1000 ##reduce to 1000 dimensions. Original dimension is very high (131072).\n",
    "pca = PCA(n_components = num_components)\n",
    "spec_pca_1000 = pca.fit_transform(spectrograms)\n",
    "print(\"TOTAL EXPLAINED VARIANCE WITH \" + str(num_components)\n",
    "+ \" components = \" +  str(sum(pca.explained_variance_ratio_)))"
   ]
  },
  {
   "cell_type": "code",
   "execution_count": 18,
   "id": "c6aa53b6-ea4b-4ffc-b02a-a4e31441e4ea",
   "metadata": {},
   "outputs": [
    {
     "name": "stdout",
     "output_type": "stream",
     "text": [
      "TOTAL EXPLAINED VARIANCE WITH 1000 components = 0.9735084373496647\n"
     ]
    }
   ],
   "source": [
    "#5 genus\n",
    "num_components = 1000 ##reduce to 1000 dimensions. Original dimension is very high (131072)\n",
    "pca = PCA(n_components = num_components)\n",
    "spec_pca_1000 = pca.fit_transform(spectrograms)\n",
    "print(\"TOTAL EXPLAINED VARIANCE WITH \" + str(num_components)\n",
    "+ \" components = \" +  str(sum(pca.explained_variance_ratio_)))"
   ]
  },
  {
   "cell_type": "code",
   "execution_count": 19,
   "id": "c4f036ca-a600-4094-990b-5810424b9d93",
   "metadata": {},
   "outputs": [
    {
     "name": "stdout",
     "output_type": "stream",
     "text": [
      "TOTAL EXPLAINED VARIANCE WITH 1000 components = 0.9735097053999198\n"
     ]
    }
   ],
   "source": [
    "#11 genus\n",
    "num_components = 1000 ##reduce to 1000 dimensions. Original dimension is very high (131072)\n",
    "pca = PCA(n_components = num_components)\n",
    "spec_pca_1000 = pca.fit_transform(spectrograms)\n",
    "print(\"TOTAL EXPLAINED VARIANCE WITH \" + str(num_components)\n",
    "+ \" components = \" +  str(sum(pca.explained_variance_ratio_)))"
   ]
  },
  {
   "cell_type": "code",
   "execution_count": 22,
   "id": "7dd37b9c-b2e0-4974-b398-8f5b8e1dc6cb",
   "metadata": {},
   "outputs": [],
   "source": [
    "#TSNE plot for PCA to 1000 dimensions"
   ]
  },
  {
   "cell_type": "code",
   "execution_count": 11,
   "id": "13c6c1a8-08bf-4b83-ba9f-9d46ee63734b",
   "metadata": {},
   "outputs": [],
   "source": [
    "spec_tsne_1000 = TSNE(\n",
    "    n_components=2, perplexity=30.0, ##feel free to tune hyperparameters\n",
    "    n_iter=5000, random_state = 42).fit_transform(spec_pca_1000)"
   ]
  },
  {
   "cell_type": "code",
   "execution_count": 12,
   "id": "b4eb855e-1f67-4763-9309-5a92a1f288df",
   "metadata": {},
   "outputs": [],
   "source": [
    "def tsneData_with_labels(spec_tsne):\n",
    "  data_with_labels = []\n",
    "  for i in range(len(spec_tsne)):\n",
    "      data_point = spec_tsne[i]\n",
    "      label = labels[i]  # Get the label from the original list of labels\n",
    "      data_with_labels.append((data_point, label))\n",
    "\n",
    "  return data_with_labels\n"
   ]
  },
  {
   "cell_type": "code",
   "execution_count": 13,
   "id": "6bb7e677-422a-4274-ac3b-143c05f0954b",
   "metadata": {},
   "outputs": [
    {
     "name": "stdout",
     "output_type": "stream",
     "text": [
      "1557\n",
      "(array([ -2.1294165, -14.627619 ], dtype=float32), 'Cycloptilum')\n"
     ]
    }
   ],
   "source": [
    "#for 5 genus\n",
    "data_with_labels_5 = tsneData_with_labels(spec_tsne_1000)\n",
    "print(len(data_with_labels_5))\n",
    "print(data_with_labels_5[0])"
   ]
  },
  {
   "cell_type": "code",
   "execution_count": 14,
   "id": "4c96e904-1384-41a9-822a-a89d55cb2731",
   "metadata": {},
   "outputs": [],
   "source": [
    "import matplotlib.pyplot as plt\n",
    "import numpy as np\n",
    "import os\n",
    "\n",
    "# Separate data and labels\n",
    "data_points5, class_labels5 = zip(*data_with_labels_5)\n",
    "\n",
    "# Convert to numpy array for easier manipulation\n",
    "data_points5 = np.array(data_points5)\n",
    "class_labels5 = np.array(class_labels5)\n",
    "\n",
    "# Get unique class labels\n",
    "unique_labels5 = np.unique(class_labels5)\n",
    "\n",
    "# Define colors for each class\n",
    "class_colors = plt.cm.rainbow(np.linspace(0, 1, len(unique_labels5)))\n",
    "\n",
    "buffer = 20\n",
    "\n",
    "# Find overall axis limits for consistency\n",
    "min_x, max_x = np.min(data_points5[:, 0]) - buffer, np.max(data_points5[:, 0]) + buffer\n",
    "min_y, max_y = np.min(data_points5[:, 1]) - buffer, np.max(data_points5[:, 1]) + buffer\n",
    "\n",
    "# Plot with all classes together\n",
    "plt.figure(figsize=(10, 8))\n",
    "for i, label in enumerate(unique_labels5):\n",
    "    class_data = data_points5[class_labels5 == label]\n",
    "    plt.scatter(class_data[:, 0], class_data[:, 1], color=class_colors[i], label=label, s= 10)\n",
    "\n",
    "# Set overall axis limits\n",
    "plt.xlim(min_x, max_x)\n",
    "plt.ylim(min_y, max_y)\n",
    "\n",
    "# Add labels and legend\n",
    "plt.xlabel('t-SNE Dimension 1')\n",
    "plt.ylabel('t-SNE Dimension 2')\n",
    "plt.title('t-SNE Plot for 3 Classes')\n",
    "plt.legend()\n",
    "\n",
    "# Save the overall plot\n",
    "output_directory = \"/gpfs/proj1/choe_lab/tanu/Genus_classification/T_SNE_plots/3_genus/\"\n",
    "overall_plot_path = os.path.join(output_directory, 'overall_plot_3genus.png')\n",
    "plt.savefig(overall_plot_path)\n",
    "plt.close()\n",
    "\n",
    "#plt.show()\n",
    "\n",
    "# Create individual plots for each class with consistent axis limits\n",
    "for i, label in enumerate(unique_labels5):\n",
    "    # Select data points for the current class\n",
    "    class_data = data_points5[class_labels5 == label]\n",
    "\n",
    "    # Create a new figure for each class\n",
    "    plt.figure()\n",
    "\n",
    "    # Plot the t-SNE coordinates for the current class with the specified color\n",
    "    plt.scatter(class_data[:, 0], class_data[:, 1], color=class_colors[i], label=label, s= 10)\n",
    "\n",
    "    # Set consistent axis limits\n",
    "    plt.xlim(min_x, max_x)\n",
    "    plt.ylim(min_y, max_y)\n",
    "\n",
    "    # Add labels and title\n",
    "    plt.xlabel('t-SNE Dimension 1')\n",
    "    plt.ylabel('t-SNE Dimension 2')\n",
    "    plt.title(f't-SNE Plot for Class: {label}')\n",
    "\n",
    "    # Add legend\n",
    "    plt.legend()\n",
    "\n",
    "    # Save the individual plot\n",
    "    individual_plot_path = os.path.join(output_directory, f'individual_plot_{label}.png')\n",
    "    plt.savefig(individual_plot_path)\n",
    "    plt.close()\n",
    "\n",
    "\n",
    "\n",
    "# Show the plots\n",
    "plt.show()"
   ]
  },
  {
   "cell_type": "code",
   "execution_count": null,
   "id": "2e1ce563-f202-47d1-b214-f827d1bd6a1e",
   "metadata": {},
   "outputs": [],
   "source": []
  },
  {
   "cell_type": "code",
   "execution_count": null,
   "id": "f4f8fb67-2b8a-4d8c-a1b6-fb927b35d8c2",
   "metadata": {},
   "outputs": [],
   "source": []
  }
 ],
 "metadata": {
  "kernelspec": {
   "display_name": "Python 3 (ipykernel)",
   "language": "python",
   "name": "python3"
  },
  "language_info": {
   "codemirror_mode": {
    "name": "ipython",
    "version": 3
   },
   "file_extension": ".py",
   "mimetype": "text/x-python",
   "name": "python",
   "nbconvert_exporter": "python",
   "pygments_lexer": "ipython3",
   "version": "3.8.10"
  }
 },
 "nbformat": 4,
 "nbformat_minor": 5
}

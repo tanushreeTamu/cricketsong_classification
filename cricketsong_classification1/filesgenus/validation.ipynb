{
 "cells": [
  {
   "cell_type": "code",
   "execution_count": 487,
   "id": "4eec19ad-67f7-4071-a0cc-ad925594c4b3",
   "metadata": {},
   "outputs": [],
   "source": [
    "import torch\n",
    "from transformers import AutoFeatureExtractor, ASTForAudioClassification\n",
    "from dataset import CustomDataset\n",
    "\n",
    "\n",
    "SR = 16000\n",
    "\n",
    "# Load the dataset\n",
    "dataset = CustomDataset(datapath='./pre_processed/3_genus/test/data.pt', type='genus')\n",
    "feature_extractor = AutoFeatureExtractor.from_pretrained(\"MIT/ast-finetuned-audioset-10-10-0.4593\")\n"
   ]
  },
  {
   "cell_type": "code",
   "execution_count": 594,
   "id": "1b665166-6537-4e24-a515-cfc5911f6295",
   "metadata": {},
   "outputs": [],
   "source": [
    "# Load the trained model\n",
    "model_path = \"/gpfs/proj1/choe_lab/tanu/Genus_classification/saved_model_genus/3_genus/LR1e-5/trial1_BS4_imbalanced_ep10_correct/epoch=0.ckpt\"\n"
   ]
  },
  {
   "cell_type": "code",
   "execution_count": 595,
   "id": "3b5c3ab7-8981-4f83-94d3-c6e090acc08b",
   "metadata": {},
   "outputs": [],
   "source": [
    "num_classes = len(dataset.label2id)\n",
    "label2id=dataset.label2id\n",
    "id2label=dataset.id2label"
   ]
  },
  {
   "cell_type": "code",
   "execution_count": 596,
   "id": "c845dd4c-dfe8-47c1-9f77-51b0a511876e",
   "metadata": {},
   "outputs": [
    {
     "name": "stdout",
     "output_type": "stream",
     "text": [
      "{'Cycloptilum': 0, 'Gryllus': 1, 'Oecanthus': 2}\n"
     ]
    }
   ],
   "source": [
    "print(dataset.label2id)"
   ]
  },
  {
   "cell_type": "code",
   "execution_count": 597,
   "id": "001ddb86-af29-4569-86b7-c4a4517b70fa",
   "metadata": {},
   "outputs": [
    {
     "name": "stderr",
     "output_type": "stream",
     "text": [
      "Some weights of ASTForAudioClassification were not initialized from the model checkpoint at MIT/ast-finetuned-audioset-10-10-0.4593 and are newly initialized because the shapes did not match:\n",
      "- classifier.dense.bias: found shape torch.Size([527]) in the checkpoint and torch.Size([3]) in the model instantiated\n",
      "- classifier.dense.weight: found shape torch.Size([527, 768]) in the checkpoint and torch.Size([3, 768]) in the model instantiated\n",
      "You should probably TRAIN this model on a down-stream task to be able to use it for predictions and inference.\n"
     ]
    }
   ],
   "source": [
    "model = ASTForAudioClassification.from_pretrained('MIT/ast-finetuned-audioset-10-10-0.4593',label2id=label2id, id2label=id2label ,num_labels=num_classes,ignore_mismatched_sizes=True)\n",
    "\n",
    "checkpoint = torch.load(model_path)\n",
    "model_state_dict = checkpoint['state_dict']\n"
   ]
  },
  {
   "cell_type": "code",
   "execution_count": 599,
   "id": "552ae547-18b6-4222-ac6b-9ec675716df7",
   "metadata": {},
   "outputs": [],
   "source": [
    "from pytorch_lightning import LightningModule\n",
    "\n",
    "class ASDF(LightningModule):\n",
    "    def __init__(self, model):\n",
    "        super(ASDF, self).__init__()\n",
    "        self.model = model"
   ]
  },
  {
   "cell_type": "code",
   "execution_count": 600,
   "id": "55e53226-bd62-42d7-a317-c901c1a405c9",
   "metadata": {},
   "outputs": [
    {
     "data": {
      "text/plain": [
       "<All keys matched successfully>"
      ]
     },
     "execution_count": 600,
     "metadata": {},
     "output_type": "execute_result"
    }
   ],
   "source": [
    "light_model = ASDF(model)\n",
    "light_model.load_state_dict(model_state_dict)"
   ]
  },
  {
   "cell_type": "code",
   "execution_count": 601,
   "id": "e477ad78-3e44-46ab-ba8a-ecf59447514c",
   "metadata": {},
   "outputs": [
    {
     "name": "stdout",
     "output_type": "stream",
     "text": [
      "True label: Cycloptilum\n",
      "Predicted label: 1\n"
     ]
    }
   ],
   "source": [
    "device = torch.device(\"cuda\" if torch.cuda.is_available() else \"cpu\")\n",
    "light_model.to(device)\n",
    "\n",
    "def predict(audio_data):\n",
    "    inputs = feature_extractor(audio_data, sampling_rate=SR, return_tensors=\"pt\")\n",
    "    inputs = {k: v.to(device) for k, v in inputs.items()}\n",
    "\n",
    "    with torch.no_grad():\n",
    "        outputs = model(**inputs)\n",
    "        logits = outputs.logits\n",
    "        predicted_class_ids = torch.argmax(logits, dim=-1).item()\n",
    "        # predicted_label = model.config.id2label[predicted_class_ids]\n",
    "\n",
    "    return predicted_class_ids\n",
    "\n",
    "# Test the model on a sample from the dataset\n",
    "sample_idx = 0\n",
    "waveform, label_id = dataset[sample_idx]\n",
    "true_label = dataset.id2label[label_id.item()]\n",
    "\n",
    "predicted_label = predict(waveform)\n",
    "\n",
    "print(f\"True label: {true_label}\")\n",
    "print(f\"Predicted label: {predicted_label}\")"
   ]
  },
  {
   "cell_type": "code",
   "execution_count": 602,
   "id": "d876c67c-2a75-4fc1-af49-06fdb83ebe99",
   "metadata": {},
   "outputs": [
    {
     "name": "stdout",
     "output_type": "stream",
     "text": [
      "{0: 'Cycloptilum', 1: 'Gryllus', 2: 'Oecanthus'}\n",
      "['Cycloptilum', 'Gryllus', 'Oecanthus']\n"
     ]
    }
   ],
   "source": [
    "print(dataset.id2label)\n",
    "label_list = []\n",
    "for k,v in dataset.id2label.items():\n",
    "    label_list.append(v)\n",
    "print(label_list)"
   ]
  },
  {
   "cell_type": "code",
   "execution_count": 603,
   "id": "b11fae5b-0ed7-421e-aa22-397f03138ef6",
   "metadata": {},
   "outputs": [],
   "source": [
    "from sklearn.metrics import confusion_matrix\n",
    "from tqdm import tqdm\n",
    "import numpy as np\n",
    "import matplotlib.pyplot as plt\n",
    "from sklearn import metrics"
   ]
  },
  {
   "cell_type": "code",
   "execution_count": 604,
   "id": "ad3943ad-8d4b-4297-877b-3e3e135a6862",
   "metadata": {},
   "outputs": [
    {
     "name": "stdout",
     "output_type": "stream",
     "text": [
      "(227, 160000)\n",
      "(227,)\n"
     ]
    }
   ],
   "source": [
    "x_data = list()\n",
    "y_data = list()\n",
    "\n",
    "for i in range(len(dataset)):\n",
    "    x_data.append(dataset[i][0].numpy())\n",
    "    y_data.append(dataset[i][1].numpy())\n",
    "   \n",
    "x_test = np.array(x_data)\n",
    "print(x_test.shape)\n",
    "y_test = np.array(y_data)\n",
    "print(y_test.shape)"
   ]
  },
  {
   "cell_type": "code",
   "execution_count": 605,
   "id": "f7f61621-d142-4845-ab1f-f6baca397e29",
   "metadata": {},
   "outputs": [
    {
     "name": "stdout",
     "output_type": "stream",
     "text": [
      "{0: 45, 1: 130, 2: 52}\n"
     ]
    }
   ],
   "source": [
    "count = {}\n",
    "for i in range(len(dataset)):\n",
    "    if y_test[i] not in count:\n",
    "        count[y_test[i]] = 1\n",
    "    else:\n",
    "        count[y_test[i]] += 1\n",
    "\n",
    "count = dict(sorted(count.items()))\n",
    "print(count)    "
   ]
  },
  {
   "cell_type": "code",
   "execution_count": 606,
   "id": "980b62ac-40a8-4e39-bd91-39160d5fc384",
   "metadata": {},
   "outputs": [
    {
     "name": "stderr",
     "output_type": "stream",
     "text": [
      "100%|█████████████████████████████████████████| 227/227 [00:09<00:00, 23.49it/s]\n"
     ]
    }
   ],
   "source": [
    "y_pred = list()\n",
    "for i in tqdm(range(len(dataset))):\n",
    "    waveform, label_id = dataset[i]\n",
    "    y_pred_i = predict(waveform)\n",
    "    y_pred.append(y_pred_i)"
   ]
  },
  {
   "cell_type": "code",
   "execution_count": 607,
   "id": "33416cc3-3650-43e3-9296-d26a9edbcd45",
   "metadata": {},
   "outputs": [
    {
     "data": {
      "text/plain": [
       "array([[ 28,  16,   1],\n",
       "       [  3, 103,  24],\n",
       "       [  0,   1,  51]])"
      ]
     },
     "execution_count": 607,
     "metadata": {},
     "output_type": "execute_result"
    }
   ],
   "source": [
    "conf_matrix = confusion_matrix(y_test, y_pred)\n",
    "conf_matrix"
   ]
  },
  {
   "cell_type": "code",
   "execution_count": 608,
   "id": "bc3e16f1-381f-45ec-a486-6824f6b34668",
   "metadata": {},
   "outputs": [
    {
     "data": {
      "text/plain": [
       "<sklearn.metrics._plot.confusion_matrix.ConfusionMatrixDisplay at 0x7fbc564735e0>"
      ]
     },
     "execution_count": 608,
     "metadata": {},
     "output_type": "execute_result"
    },
    {
     "data": {
      "image/png": "[encoded data removed]",
      "text/plain": [
       "<Figure size 640x480 with 2 Axes>"
      ]
     },
     "metadata": {},
     "output_type": "display_data"
    }
   ],
   "source": [
    "metrics.ConfusionMatrixDisplay(conf_matrix).plot()"
   ]
  },
  {
   "cell_type": "code",
   "execution_count": null,
   "id": "aab025b8-ec72-42b8-bc69-11294ae2e5f8",
   "metadata": {},
   "outputs": [],
   "source": []
  },
  {
   "cell_type": "code",
   "execution_count": null,
   "id": "53e9b1af-18f5-4fc4-8495-d28eb6c2fbc7",
   "metadata": {},
   "outputs": [],
   "source": []
  }
 ],
 "metadata": {
  "kernelspec": {
   "display_name": "Python 3 (ipykernel)",
   "language": "python",
   "name": "python3"
  },
  "language_info": {
   "codemirror_mode": {
    "name": "ipython",
    "version": 3
   },
   "file_extension": ".py",
   "mimetype": "text/x-python",
   "name": "python",
   "nbconvert_exporter": "python",
   "pygments_lexer": "ipython3",
   "version": "3.8.10"
  }
 },
 "nbformat": 4,
 "nbformat_minor": 5
}

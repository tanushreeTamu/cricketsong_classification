{
 "cells": [
  {
   "cell_type": "code",
   "execution_count": 15,
   "metadata": {
    "executionInfo": {
     "elapsed": 71386,
     "status": "ok",
     "timestamp": 1698795689446,
     "user": {
      "displayName": "Tanu Shree",
      "userId": "01274403050560049170"
     },
     "user_tz": 300
    },
    "id": "uhdou9dQg8zr"
   },
   "outputs": [],
   "source": [
    "import random\n",
    "import torch\n",
    "\n",
    "# Load your data from the .pt file\n",
    "file_path = \"/gpfs/proj1/choe_lab/tanu/Species_classification/features_extracted/3_species/train/cricket_data_feature_extracted.pt\"\n",
    "\n",
    "data = torch.load(file_path)\n",
    "\n"
   ]
  },
  {
   "cell_type": "code",
   "execution_count": 16,
   "metadata": {
    "colab": {
     "base_uri": "https://localhost:8080/"
    },
    "executionInfo": {
     "elapsed": 255,
     "status": "ok",
     "timestamp": 1698795733511,
     "user": {
      "displayName": "Tanu Shree",
      "userId": "01274403050560049170"
     },
     "user_tz": 300
    },
    "id": "DIxuLYudiL1R",
    "outputId": "7485f133-c6e6-44cc-975a-30c4fc603230"
   },
   "outputs": [
    {
     "name": "stdout",
     "output_type": "stream",
     "text": [
      "2273\n",
      "{'array': array([[-1.2775939 , -1.2775939 , -1.2775939 , ..., -0.06692787,\n",
      "        -0.11456262, -0.10012668],\n",
      "       [-1.2775939 , -1.2775939 , -1.2775939 , ..., -0.07882945,\n",
      "        -0.10893779, -0.2332645 ],\n",
      "       [-1.2775939 , -1.2775939 , -1.2775939 , ..., -0.08546656,\n",
      "        -0.13467082, -0.11205074],\n",
      "       ...,\n",
      "       [ 0.46703237,  0.46703237,  0.46703237, ...,  0.46703237,\n",
      "         0.46703237,  0.46703237],\n",
      "       [ 0.46703237,  0.46703237,  0.46703237, ...,  0.46703237,\n",
      "         0.46703237,  0.46703237],\n",
      "       [ 0.46703237,  0.46703237,  0.46703237, ...,  0.46703237,\n",
      "         0.46703237,  0.46703237]], dtype=float32), 'label': 'Gryllus lineaticeps'}\n",
      "<class 'list'>\n"
     ]
    }
   ],
   "source": [
    "print(len(data))\n",
    "print(data[0])\n",
    "print(type(data))"
   ]
  },
  {
   "cell_type": "code",
   "execution_count": 17,
   "metadata": {
    "executionInfo": {
     "elapsed": 299,
     "status": "ok",
     "timestamp": 1698795736126,
     "user": {
      "displayName": "Tanu Shree",
      "userId": "01274403050560049170"
     },
     "user_tz": 300
    },
    "id": "OOl35D629mnq"
   },
   "outputs": [],
   "source": [
    "# Set the desired number of instances for each class\n",
    "desired_instances = 750"
   ]
  },
  {
   "cell_type": "code",
   "execution_count": 18,
   "metadata": {
    "executionInfo": {
     "elapsed": 416,
     "status": "ok",
     "timestamp": 1698795738174,
     "user": {
      "displayName": "Tanu Shree",
      "userId": "01274403050560049170"
     },
     "user_tz": 300
    },
    "id": "f04YyNaY9pPn"
   },
   "outputs": [],
   "source": [
    "\n",
    "# Create a dictionary to organize the data by class label\n",
    "def waveforms_wih_classes(data):\n",
    "  class_data = {}\n",
    "\n",
    "  # Organize the data into classes\n",
    "  for instance in data:\n",
    "      waveform = instance['array']\n",
    "      label = instance['label']\n",
    "\n",
    "      if label not in class_data:\n",
    "          class_data[label] = []\n",
    "      class_data[label].append(waveform)\n",
    "  class_data = dict(sorted(class_data.items(), key = lambda item: item[0]))\n",
    "  return class_data"
   ]
  },
  {
   "cell_type": "code",
   "execution_count": 19,
   "metadata": {
    "executionInfo": {
     "elapsed": 271,
     "status": "ok",
     "timestamp": 1698795740326,
     "user": {
      "displayName": "Tanu Shree",
      "userId": "01274403050560049170"
     },
     "user_tz": 300
    },
    "id": "SC8Ead3xB3b3"
   },
   "outputs": [],
   "source": [
    "class_data = waveforms_wih_classes(data)"
   ]
  },
  {
   "cell_type": "code",
   "execution_count": 20,
   "metadata": {
    "colab": {
     "base_uri": "https://localhost:8080/"
    },
    "executionInfo": {
     "elapsed": 6,
     "status": "ok",
     "timestamp": 1698795741438,
     "user": {
      "displayName": "Tanu Shree",
      "userId": "01274403050560049170"
     },
     "user_tz": 300
    },
    "id": "elegeiYX99Ci",
    "outputId": "e72158dd-e280-4d3b-d0a9-41313e424a13"
   },
   "outputs": [
    {
     "name": "stdout",
     "output_type": "stream",
     "text": [
      "dict_keys(['Gryllus armatus', 'Gryllus lightfooti', 'Gryllus lineaticeps'])\n"
     ]
    }
   ],
   "source": [
    "print(class_data.keys())"
   ]
  },
  {
   "cell_type": "code",
   "execution_count": 30,
   "metadata": {
    "colab": {
     "base_uri": "https://localhost:8080/"
    },
    "executionInfo": {
     "elapsed": 7,
     "status": "ok",
     "timestamp": 1698795743254,
     "user": {
      "displayName": "Tanu Shree",
      "userId": "01274403050560049170"
     },
     "user_tz": 300
    },
    "id": "s8wIs7SC-vim",
    "outputId": "b6c51e92-45f0-4938-838a-53d13f99ac65"
   },
   "outputs": [
    {
     "name": "stdout",
     "output_type": "stream",
     "text": [
      "1212\n",
      "{'array': array([[-1.2775939 , -1.2775939 , -1.2775939 , ..., -0.06692787,\n",
      "        -0.11456262, -0.10012668],\n",
      "       [-1.2775939 , -1.2775939 , -1.2775939 , ..., -0.07882945,\n",
      "        -0.10893779, -0.2332645 ],\n",
      "       [-1.2775939 , -1.2775939 , -1.2775939 , ..., -0.08546656,\n",
      "        -0.13467082, -0.11205074],\n",
      "       ...,\n",
      "       [ 0.46703237,  0.46703237,  0.46703237, ...,  0.46703237,\n",
      "         0.46703237,  0.46703237],\n",
      "       [ 0.46703237,  0.46703237,  0.46703237, ...,  0.46703237,\n",
      "         0.46703237,  0.46703237],\n",
      "       [ 0.46703237,  0.46703237,  0.46703237, ...,  0.46703237,\n",
      "         0.46703237,  0.46703237]], dtype=float32), 'label': 'Gryllus lineaticeps'}\n"
     ]
    }
   ],
   "source": [
    "print(len(class_data['Gryllus lightfooti']))\n",
    "print(data[0])"
   ]
  },
  {
   "cell_type": "code",
   "execution_count": 22,
   "metadata": {},
   "outputs": [],
   "source": [
    "#Appply only undersampling \n",
    "def undersampling_data(class_data):\n",
    "    undersampled_data = []\n",
    "    for label, waveforms in class_data.items():\n",
    "        num_instances = len(waveforms)\n",
    "        if num_instances > desired_instances:\n",
    "            #undersample by randomly selecting instances to keep\n",
    "            undersampled_waveforms = random.sample(waveforms, desired_instances)\n",
    "            undersampled_data.extend([{'array': waveform, 'label': label} for waveform in undersampled_waveforms])\n",
    "        else:\n",
    "            undersampled_data.extend([{'array': waveform, 'label': label} for waveform in waveforms])\n",
    "\n",
    "    return undersampled_data\n",
    "    "
   ]
  },
  {
   "cell_type": "code",
   "execution_count": 23,
   "metadata": {},
   "outputs": [
    {
     "data": {
      "text/plain": [
       "1811"
      ]
     },
     "execution_count": 23,
     "metadata": {},
     "output_type": "execute_result"
    }
   ],
   "source": [
    "#balance the 3 species set 750 (undersample last species)\n",
    "balanced_3_species =  undersampling_data(class_data)\n",
    "len(balanced_3_species)"
   ]
  },
  {
   "cell_type": "code",
   "execution_count": 24,
   "metadata": {},
   "outputs": [
    {
     "name": "stdout",
     "output_type": "stream",
     "text": [
      "750\n"
     ]
    }
   ],
   "source": [
    "balanced_waveforms_per_class_3species = waveforms_wih_classes(balanced_3_species)\n",
    "print(len(balanced_waveforms_per_class_3species[\"Gryllus lightfooti\"]))"
   ]
  },
  {
   "cell_type": "code",
   "execution_count": 67,
   "metadata": {},
   "outputs": [],
   "source": [
    "balanced_5_species =  undersampling_data(class_data)"
   ]
  },
  {
   "cell_type": "code",
   "execution_count": 68,
   "metadata": {},
   "outputs": [
    {
     "data": {
      "text/plain": [
       "2527"
      ]
     },
     "execution_count": 68,
     "metadata": {},
     "output_type": "execute_result"
    }
   ],
   "source": [
    "len(balanced_5_species)"
   ]
  },
  {
   "cell_type": "code",
   "execution_count": 71,
   "metadata": {},
   "outputs": [
    {
     "name": "stdout",
     "output_type": "stream",
     "text": [
      "650\n"
     ]
    }
   ],
   "source": [
    "balanced_waveforms_per_class_5species = waveforms_wih_classes(balanced_5_species)\n",
    "print(len(balanced_waveforms_per_class_5species[\"Gryllus lightfooti\"]))"
   ]
  },
  {
   "cell_type": "code",
   "execution_count": 1,
   "metadata": {
    "executionInfo": {
     "elapsed": 333,
     "status": "ok",
     "timestamp": 1698795745151,
     "user": {
      "displayName": "Tanu Shree",
      "userId": "01274403050560049170"
     },
     "user_tz": 300
    },
    "id": "uA8Io_cd930t"
   },
   "outputs": [],
   "source": [
    "# Apply oversampling and undersampling\n",
    "\n",
    "def balancing_data(class_data):\n",
    "  # Create new lists to store the balanced data\n",
    "  oversampled_data = []\n",
    "  undersampled_data = []\n",
    "  for label, waveforms in class_data.items():\n",
    "      # Determine the number of instances in the current class\n",
    "      num_instances = len(waveforms)\n",
    "\n",
    "      if num_instances < desired_instances:\n",
    "          # Oversample by duplicating existing instances\n",
    "          oversampled_waveforms = waveforms\n",
    "          while len(oversampled_waveforms) < desired_instances:\n",
    "              instance_to_add = random.choice(waveforms)\n",
    "              oversampled_waveforms.append(instance_to_add)\n",
    "          oversampled_data.extend([{'array': waveform, 'label': label} for waveform in oversampled_waveforms])\n",
    "      elif num_instances > desired_instances:\n",
    "          # Undersample by randomly selecting instances to keep\n",
    "          undersampled_waveforms = random.sample(waveforms, desired_instances)\n",
    "          undersampled_data.extend([{'array': waveform, 'label': label} for waveform in undersampled_waveforms])\n",
    "      else:\n",
    "          # No oversampling or undersampling needed\n",
    "          oversampled_data.extend([{'array': waveform, 'label': label} for waveform in waveforms])\n",
    "          undersampled_data.extend([{'array': waveform, 'label': label} for waveform in waveforms])\n",
    "\n",
    "  return oversampled_data,undersampled_data\n"
   ]
  },
  {
   "cell_type": "code",
   "execution_count": 51,
   "metadata": {
    "executionInfo": {
     "elapsed": 238,
     "status": "ok",
     "timestamp": 1698795747817,
     "user": {
      "displayName": "Tanu Shree",
      "userId": "01274403050560049170"
     },
     "user_tz": 300
    },
    "id": "QKdlcmAAEICX"
   },
   "outputs": [],
   "source": [
    "oversampled_data,undersampled_data = balancing_data(class_data)"
   ]
  },
  {
   "cell_type": "code",
   "execution_count": 52,
   "metadata": {
    "executionInfo": {
     "elapsed": 5,
     "status": "ok",
     "timestamp": 1698795748892,
     "user": {
      "displayName": "Tanu Shree",
      "userId": "01274403050560049170"
     },
     "user_tz": 300
    },
    "id": "tEubfmB-_vNW"
   },
   "outputs": [],
   "source": [
    "balanced_data = (oversampled_data + undersampled_data)"
   ]
  },
  {
   "cell_type": "code",
   "execution_count": 53,
   "metadata": {
    "colab": {
     "base_uri": "https://localhost:8080/"
    },
    "executionInfo": {
     "elapsed": 8,
     "status": "ok",
     "timestamp": 1698795749850,
     "user": {
      "displayName": "Tanu Shree",
      "userId": "01274403050560049170"
     },
     "user_tz": 300
    },
    "id": "p_bXCUBFCv8Q",
    "outputId": "75d5aae9-a290-459d-948b-e5da7f7bd698"
   },
   "outputs": [
    {
     "name": "stdout",
     "output_type": "stream",
     "text": [
      "4500\n",
      "{'array': array([[-0.72662544, -1.2775939 , -1.0434303 , ...,  0.09354903,\n",
      "        -0.1369554 , -0.13669997],\n",
      "       [-0.9523918 , -1.2775939 , -1.2690147 , ..., -0.01750982,\n",
      "        -0.18199639, -0.15710948],\n",
      "       [-0.91816765, -1.2775939 , -1.2413666 , ..., -0.07037605,\n",
      "        -0.14542983, -0.04364534],\n",
      "       ...,\n",
      "       [ 0.46703237,  0.46703237,  0.46703237, ...,  0.46703237,\n",
      "         0.46703237,  0.46703237],\n",
      "       [ 0.46703237,  0.46703237,  0.46703237, ...,  0.46703237,\n",
      "         0.46703237,  0.46703237],\n",
      "       [ 0.46703237,  0.46703237,  0.46703237, ...,  0.46703237,\n",
      "         0.46703237,  0.46703237]], dtype=float32), 'label': 'Gryllus assimilis'}\n"
     ]
    }
   ],
   "source": [
    "print(len(balanced_data))\n",
    "print(balanced_data[0])"
   ]
  },
  {
   "cell_type": "code",
   "execution_count": 54,
   "metadata": {
    "executionInfo": {
     "elapsed": 250,
     "status": "ok",
     "timestamp": 1698795759663,
     "user": {
      "displayName": "Tanu Shree",
      "userId": "01274403050560049170"
     },
     "user_tz": 300
    },
    "id": "EBV5p1b6_5Je"
   },
   "outputs": [],
   "source": [
    "balanced_waveforms_per_class = waveforms_wih_classes(balanced_data)"
   ]
  },
  {
   "cell_type": "code",
   "execution_count": 55,
   "metadata": {
    "colab": {
     "base_uri": "https://localhost:8080/"
    },
    "executionInfo": {
     "elapsed": 335,
     "status": "ok",
     "timestamp": 1698795762653,
     "user": {
      "displayName": "Tanu Shree",
      "userId": "01274403050560049170"
     },
     "user_tz": 300
    },
    "id": "8p_9QHo5CjsO",
    "outputId": "d1ad3881-b629-4515-989a-60afd94ea0ee"
   },
   "outputs": [
    {
     "name": "stdout",
     "output_type": "stream",
     "text": [
      "9\n",
      "500\n"
     ]
    }
   ],
   "source": [
    "print(len(balanced_waveforms_per_class))\n",
    "print(len(balanced_waveforms_per_class['Gryllus cohni']))"
   ]
  },
  {
   "cell_type": "code",
   "execution_count": 26,
   "metadata": {
    "executionInfo": {
     "elapsed": 23179,
     "status": "ok",
     "timestamp": 1698795789004,
     "user": {
      "displayName": "Tanu Shree",
      "userId": "01274403050560049170"
     },
     "user_tz": 300
    },
    "id": "3fRjO1DvFrbF"
   },
   "outputs": [],
   "source": [
    "output_filepath = \"/gpfs/proj1/choe_lab/tanu/Species_classification/features_extracted/3_species/balanced_train_750_2273/cricket_data_feature_extracted.pt\"\n",
    "# Save the balanced_training_data to the specified location\n",
    "torch.save(balanced_3_species, output_filepath)"
   ]
  },
  {
   "cell_type": "code",
   "execution_count": null,
   "metadata": {},
   "outputs": [],
   "source": []
  }
 ],
 "metadata": {
  "colab": {
   "authorship_tag": "ABX9TyN/hmvH5UQGtKsL2VaE8xDJ",
   "machine_shape": "hm",
   "provenance": []
  },
  "kernelspec": {
   "display_name": "Python 3 (ipykernel)",
   "language": "python",
   "name": "python3"
  },
  "language_info": {
   "codemirror_mode": {
    "name": "ipython",
    "version": 3
   },
   "file_extension": ".py",
   "mimetype": "text/x-python",
   "name": "python",
   "nbconvert_exporter": "python",
   "pygments_lexer": "ipython3",
   "version": "3.8.10"
  }
 },
 "nbformat": 4,
 "nbformat_minor": 4
}
